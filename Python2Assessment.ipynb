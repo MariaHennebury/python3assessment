{
 "cells": [
  {
   "cell_type": "code",
   "execution_count": 12,
   "id": "927674e1-317b-476b-b0f7-35074e096e9c",
   "metadata": {},
   "outputs": [
    {
     "name": "stdin",
     "output_type": "stream",
     "text": [
      "Enter the first integer:  436\n",
      "Enter the second integer:  3456\n",
      "Enter the third integer:  354\n"
     ]
    },
    {
     "name": "stdout",
     "output_type": "stream",
     "text": [
      "intergers are: [436, 3456, 354]\n",
      "The sum is: 4246\n",
      "The average is: 1415\n",
      "The Min is: 354\n",
      "The Max is: 3456\n",
      "intergers are now: [436, 3456, 354, 1415]\n",
      "The sum is now: 5661\n",
      "Updated average is: 1415\n",
      "The Updated Min is: 354\n",
      "The Updated Max is: 3456\n"
     ]
    },
    {
     "name": "stdin",
     "output_type": "stream",
     "text": [
      "Enter the next integer:  4\n"
     ]
    },
    {
     "name": "stdout",
     "output_type": "stream",
     "text": [
      "the intergers are now: [3456, 1415, 436, 354, 4]\n"
     ]
    }
   ],
   "source": [
    "# Ask the user to enter the first integer\n",
    "first_number = int(input(\"Enter the first integer: \"))\n",
    "\n",
    "# Ask the user to enter the second integer\n",
    "second_number = int(input(\"Enter the second integer: \"))\n",
    "\n",
    "# Ask the user to enter the third integer\n",
    "third_number = int(input(\"Enter the third integer: \"))\n",
    "\n",
    "# Make the data into a list\n",
    "intergers = list((first_number, second_number, third_number))\n",
    "print('intergers are:', intergers)\n",
    "\n",
    "# Calculate the sum of the three integers\n",
    "sum_result = sum(intergers)\n",
    "print(\"The sum is:\", sum_result)\n",
    "\n",
    "# Calculate the average of the three integers\n",
    "avg_result = int(sum_result / 3)\n",
    "print(\"The average is:\", avg_result)\n",
    "\n",
    "# Calculate Min + max\n",
    "print(\"The Min is:\", min(intergers))\n",
    "print(\"The Max is:\", max(intergers))\n",
    "\n",
    "# Append List and recalculatee\n",
    "intergers.append(avg_result)\n",
    "print('intergers are now:', intergers)\n",
    "new_sum = int(sum(intergers))\n",
    "print(\"The sum is now:\", new_sum)\n",
    "updated_average = int(new_sum / 4)\n",
    "print('Updated average is:', updated_average)\n",
    "print(\"The Updated Min is:\", min (intergers))\n",
    "print(\"The Updated Max is:\", max (intergers))\n",
    "\n",
    "# Ask the user to enter the fifth integer\n",
    "fifth_number = int(input(\"Enter the next integer: \"))\n",
    "\n",
    "# Append List\n",
    "intergers.append(fifth_number)\n",
    "\n",
    "# Sort descending order\n",
    "results = sorted(intergers, reverse=True)\n",
    "print ('the intergers are now:', results)"
   ]
  },
  {
   "cell_type": "code",
   "execution_count": null,
   "id": "5ace538d-95ba-4840-b7f2-fa7258a448e4",
   "metadata": {},
   "outputs": [],
   "source": []
  }
 ],
 "metadata": {
  "kernelspec": {
   "display_name": "Python 3 (ipykernel)",
   "language": "python",
   "name": "python3"
  },
  "language_info": {
   "codemirror_mode": {
    "name": "ipython",
    "version": 3
   },
   "file_extension": ".py",
   "mimetype": "text/x-python",
   "name": "python",
   "nbconvert_exporter": "python",
   "pygments_lexer": "ipython3",
   "version": "3.11.7"
  }
 },
 "nbformat": 4,
 "nbformat_minor": 5
}
