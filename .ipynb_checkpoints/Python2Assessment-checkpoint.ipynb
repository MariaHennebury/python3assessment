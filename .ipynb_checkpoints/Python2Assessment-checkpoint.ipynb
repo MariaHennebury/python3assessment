{
 "cells": [
  {
   "cell_type": "code",
   "execution_count": 43,
   "id": "927674e1-317b-476b-b0f7-35074e096e9c",
   "metadata": {},
   "outputs": [
    {
     "name": "stdin",
     "output_type": "stream",
     "text": [
      "Enter the first integer:  6\n",
      "Enter the second integer:  4\n",
      "Enter the third integer:  6\n"
     ]
    },
    {
     "name": "stdout",
     "output_type": "stream",
     "text": [
      "intergers: [6, 4, 6]\n",
      "The sum is: 16\n",
      "The average is: 5.333333333333333\n",
      "The Min is: 4\n",
      "The Max is: 6\n",
      "intergers are now: [6, 4, 6, 5.333333333333333]\n",
      "the new sum is: 21.333333333333332\n",
      "new average is: 5.333333333333333\n",
      "The Min is: 4\n",
      "The Max is: 6\n"
     ]
    },
    {
     "name": "stdin",
     "output_type": "stream",
     "text": [
      "Enter the next integer:  7\n"
     ]
    },
    {
     "name": "stdout",
     "output_type": "stream",
     "text": [
      "the intergers are now: [7, 6, 6, 5.333333333333333, 4]\n"
     ]
    }
   ],
   "source": [
    "\n",
    "\n",
    "# Ask the user to enter the first integer\n",
    "first_number = int(input(\"Enter the first integer: \"))\n",
    "\n",
    "# Ask the user to enter the second integer\n",
    "second_number = int(input(\"Enter the second integer: \"))\n",
    "\n",
    "# Ask the user to enter the third integer\n",
    "third_number = int(input(\"Enter the third integer: \"))\n",
    "\n",
    "# Make a list\n",
    "intergers = list((first_number, second_number, third_number))\n",
    "print('intergers:', intergers)\n",
    "\n",
    "# Calculate the sum of the three integers\n",
    "sum_result = sum(intergers)\n",
    "print(\"The sum is:\", sum_result)\n",
    "\n",
    "# Calculate the average of the three integers\n",
    "avg_result = sum_result / 3\n",
    "\n",
    "# Print the avg\n",
    "print(\"The average is:\", avg_result)\n",
    "\n",
    "# Calculate Min + max\n",
    "print(\"The Min is:\", min(intergers))\n",
    "print(\"The Max is:\", max(intergers))\n",
    "\n",
    "# Append List\n",
    "intergers.append(avg_result)\n",
    "print('intergers are now:', intergers)\n",
    "\n",
    "# print new sum\n",
    "new_sum = sum(intergers)\n",
    "print ('the new sum is:', new_sum)\n",
    "\n",
    "# Print new avg\n",
    "new_avg = (new_sum / 4)\n",
    "print('new average is:', new_avg)\n",
    "\n",
    "# Calculate Min + max\n",
    "print(\"The Min is:\", min (intergers))\n",
    "print(\"The Max is:\", max (intergers))\n",
    "\n",
    "# Ask the user to enter the fifth integer\n",
    "fifth_number = int(input(\"Enter the next integer: \"))\n",
    "\n",
    "# Append List\n",
    "intergers.append(fifth_number)\n",
    "\n",
    "# Sort descending order\n",
    "results = sorted(intergers, reverse=True)\n",
    "print ('the intergers are now:', results)"
   ]
  },
  {
   "cell_type": "code",
   "execution_count": null,
   "id": "5ace538d-95ba-4840-b7f2-fa7258a448e4",
   "metadata": {},
   "outputs": [],
   "source": []
  }
 ],
 "metadata": {
  "kernelspec": {
   "display_name": "Python 3 (ipykernel)",
   "language": "python",
   "name": "python3"
  },
  "language_info": {
   "codemirror_mode": {
    "name": "ipython",
    "version": 3
   },
   "file_extension": ".py",
   "mimetype": "text/x-python",
   "name": "python",
   "nbconvert_exporter": "python",
   "pygments_lexer": "ipython3",
   "version": "3.11.7"
  }
 },
 "nbformat": 4,
 "nbformat_minor": 5
}
